{
 "cells": [
  {
   "cell_type": "markdown",
   "id": "9a57c4c6",
   "metadata": {},
   "source": [
    "# Eat Safe, Love"
   ]
  },
  {
   "cell_type": "markdown",
   "id": "064ef857",
   "metadata": {},
   "source": [
    "## Notebook Set Up"
   ]
  },
  {
   "cell_type": "code",
   "execution_count": null,
   "id": "3ecdd008",
   "metadata": {},
   "outputs": [],
   "source": [
    "# Import dependencies\n",
    "from pymongo import MongoClient\n",
    "from pprint import pprint"
   ]
  },
  {
   "cell_type": "code",
   "execution_count": null,
   "id": "59390c4a",
   "metadata": {},
   "outputs": [],
   "source": [
    "# Create an instance of MongoClient\n",
    "mongo = MongoClient(port=27017)"
   ]
  },
  {
   "cell_type": "code",
   "execution_count": null,
   "id": "71e373c1",
   "metadata": {},
   "outputs": [],
   "source": [
    "# assign the uk_food database to a variable name\n",
    "db = mongo['uk_food']"
   ]
  },
  {
   "cell_type": "code",
   "execution_count": null,
   "id": "18ab463c",
   "metadata": {},
   "outputs": [],
   "source": [
    "# review the collections in our database\n",
    "print(uk_food_db.list_collection_names())"
   ]
  },
  {
   "cell_type": "code",
   "execution_count": null,
   "id": "11c9f11b",
   "metadata": {},
   "outputs": [],
   "source": [
    "# assign the collection to a variable\n",
    "establishments = db['establishments']"
   ]
  },
  {
   "cell_type": "markdown",
   "id": "d5671434",
   "metadata": {},
   "source": [
    "## Part 3: Exploratory Analysis\n",
    "Unless otherwise stated, for each question: \n",
    "* Use `count_documents` to display the number of documents contained in the result.\n",
    "* Display the first document in the results using `pprint`.\n",
    "* Convert the result to a Pandas DataFrame, print the number of rows in the DataFrame, and display the first 10 rows."
   ]
  },
  {
   "cell_type": "markdown",
   "id": "314bd884",
   "metadata": {},
   "source": [
    "### 1. Which establishments have a hygiene score equal to 20?"
   ]
  },
  {
   "cell_type": "code",
   "execution_count": null,
   "id": "c2da7648",
   "metadata": {},
   "outputs": [],
   "source": [
    "# Find the establishments with a hygiene score of 20\n",
    "query = {'scores.Hygiene': 20}\n",
    "\n",
    "# Use count_documents to display the number of documents in the result\n",
    "results = establishments.count_documents(query)\n",
    "print(f\"---------------------------------------------------------------------------------------------------------\")\n",
    "print(f\"There are {results} establishments with a 'Hygiene' score of 20.\")\n",
    "print(f\"---------------------------------------------------------------------------------------------------------\")\n",
    "\n",
    "# Display the first document in the results using pprint\n",
    "first_document = establishments.find_one(query)\n",
    "pprint(first_document)\n",
    "print(f\"---------------------------------------------------------------------------------------------------------\")\n"
   ]
  },
  {
   "cell_type": "code",
   "execution_count": null,
   "id": "a6e5cece",
   "metadata": {},
   "outputs": [],
   "source": [
    "# Convert the result to a Pandas DataFrame\n",
    "hygiene_df = pd.DataFrame(establishments.find(query))\n",
    "\n",
    "# Display the number of rows in the DataFrame\n",
    "print(f\"---------------------------------------------------------------------------------------------------------\")\n",
    "count_of_hygiene_df = len(hygiene_df)\n",
    "print(f\"There are {count_of_hygiene_df} rows within this Hygiene Dataframe\")\n",
    "print(f\"---------------------------------------------------------------------------------------------------------\")\n",
    "# Display the first 10 rows of the DataFrame\n",
    "hygiene_df.head(10)\n"
   ]
  },
  {
   "cell_type": "markdown",
   "id": "0ef4395a",
   "metadata": {},
   "source": [
    "### 2. Which establishments in London have a `RatingValue` greater than or equal to 4?"
   ]
  },
  {
   "cell_type": "code",
   "execution_count": null,
   "id": "93c63829",
   "metadata": {},
   "outputs": [],
   "source": [
    "# Find the establishments with London as the Local Authority and has a RatingValue greater than or equal to 4.\n",
    "query = {'LocalAuthorityName': {'$regex': \"London\"},\"RatingValue\":{'$gte':\"4\"}}\n",
    "\n",
    "# Use count_documents to display the number of documents in the result\n",
    "results = establishments.count_documents(query)\n",
    "print(f\"---------------------------------------------------------------------------------------------------------\")\n",
    "print(f\"There are {results} establishments with a 'Rating' score of 4 or above.\")\n",
    "print(f\"---------------------------------------------------------------------------------------------------------\")\n",
    "\n",
    "# Display the first document in the results using pprint\n",
    "first_document = establishments.find_one(query)\n",
    "pprint(first_document)\n",
    "print(f\"---------------------------------------------------------------------------------------------------------\")"
   ]
  },
  {
   "cell_type": "code",
   "execution_count": null,
   "id": "07e24ccb",
   "metadata": {},
   "outputs": [],
   "source": [
    "# Convert the result to a Pandas DataFrame\n",
    "rating_df = pd.DataFrame(establishments.find(query))\n",
    "\n",
    "# Display the number of rows in the DataFrame\n",
    "print(f\"---------------------------------------------------------------------------------------------------------\")\n",
    "count_of_rating_df = len(rating_df)\n",
    "print(f\"There are {count_of_rating_df} rows within this Hygiene Dataframe\")\n",
    "print(f\"---------------------------------------------------------------------------------------------------------\")\n",
    "\n",
    "# Display the first 10 rows of the DataFrame\n",
    "rating_df.head(10)\n"
   ]
  },
  {
   "cell_type": "markdown",
   "id": "4e570caf",
   "metadata": {},
   "source": [
    "### 3. What are the top 5 establishments with a `RatingValue` rating value of 5, sorted by lowest hygiene score, nearest to the new restaurant added, \"Penang Flavours\"?"
   ]
  },
  {
   "cell_type": "code",
   "execution_count": null,
   "id": "7f599f3d",
   "metadata": {},
   "outputs": [],
   "source": [
    "# Search within 0.01 degree on either side of the latitude and longitude.\n",
    "# Rating value must equal 5\n",
    "# Sort by hygiene score\n",
    "\n",
    "degree_search = 0.01\n",
    "latitude = 51.49014200\n",
    "longitude = 0.08384000\n",
    "\n",
    "query = {\n",
    "    \"RatingValue\": \"5\",\n",
    "    'geocode.latitude': {\n",
    "        '$lte': latitude + degree_search,\n",
    "        '$gte': latitude - degree_search\n",
    "    },\n",
    "    'geocode.longitude': {\n",
    "        '$lte': longitude + degree_search,\n",
    "        '$gte': longitude - degree_search\n",
    "    }\n",
    "}\n",
    "\n",
    "#Sort by hygiene score\n",
    "sort = [('scores.Hygiene', 1)]\n",
    "\n",
    "# Print the results\n",
    "for i in establishments.find(query).sort(sort).limit(5):\n",
    "    pprint(i)\n"
   ]
  },
  {
   "cell_type": "code",
   "execution_count": null,
   "id": "a6ad16f7",
   "metadata": {},
   "outputs": [],
   "source": [
    "# Convert result to Pandas DataFrame\n",
    "top5_penang_flavours_df = pd.DataFrame(establishments.find(query))\n",
    "top5_penang_flavours_df"
   ]
  },
  {
   "cell_type": "markdown",
   "id": "67281254",
   "metadata": {},
   "source": [
    "### 4. How many establishments in each Local Authority area have a hygiene score of 0?"
   ]
  },
  {
   "cell_type": "code",
   "execution_count": null,
   "id": "4eeb227e",
   "metadata": {},
   "outputs": [],
   "source": [
    "# Create a pipeline that: \n",
    "# 1. Matches establishments with a hygiene score of 0\n",
    "# 2. Groups the matches by Local Authority\n",
    "# 3. Sorts the matches from highest to lowest\n",
    "\n",
    "# Create match query\n",
    "match_query = {\"$match\": {'scores.Hygiene': 0}}\n",
    "\n",
    "# Grouped by \"Local Authority\"\n",
    "group_query = {'$group': {'_id': '$LocalAuthorityName', 'count': {'$sum': 1}}}\n",
    "\n",
    "# Then sort by classification in alphabetical order\n",
    "sort_values = {'$sort': {'count': -1}}\n",
    "\n",
    "# Create 'pipeline' function\n",
    "pipeline = [match_query, group_query, sort_values]\n",
    "\n",
    "# # Print the number of documents in the result\n",
    "results = list(establishments.aggregate(pipeline))\n",
    "print(f\"Number of documents in result: {len(results)}\")\n",
    "\n",
    "# Print the first 10 results\n",
    "for i in results[:10]:\n",
    "    print(f\"---------------------------------------------------------------------------------------------------------\")\n",
    "    print(i)\n"
   ]
  },
  {
   "cell_type": "code",
   "execution_count": null,
   "id": "d8aab364",
   "metadata": {},
   "outputs": [],
   "source": [
    "# Convert the result to a Pandas DataFrame\n",
    "local_authority_df = pd.DataFrame(results)\n",
    "local_authority_df = local_authority_df.rename(columns={\"_id\": \"ID\", \"count\": \"Count\"})\n",
    "\n",
    "\n",
    "# Display the number of rows in the DataFrame\n",
    "print(\"----------------------------------------------------------------------------------------------\")\n",
    "count_of_local_authority_df = len(local_authority_df)\n",
    "print(f\"There are {count_of_local_authority_df} rows within this Local Authority count DataFrame\")\n",
    "print(\"----------------------------------------------------------------------------------------------\")\n",
    "\n",
    "# Display the first 10 rows of the DataFrame\n",
    "print(local_authority_df.head(5))\n"
   ]
  }
 ],
 "metadata": {
  "kernelspec": {
   "display_name": "Python 3 (ipykernel)",
   "language": "python",
   "name": "python3"
  },
  "language_info": {
   "codemirror_mode": {
    "name": "ipython",
    "version": 3
   },
   "file_extension": ".py",
   "mimetype": "text/x-python",
   "name": "python",
   "nbconvert_exporter": "python",
   "pygments_lexer": "ipython3",
   "version": "3.10.11"
  },
  "widgets": {
   "application/vnd.jupyter.widget-state+json": {
    "state": {},
    "version_major": 2,
    "version_minor": 0
   }
  }
 },
 "nbformat": 4,
 "nbformat_minor": 5
}
